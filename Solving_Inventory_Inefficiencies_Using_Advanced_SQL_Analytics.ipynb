{
  "nbformat": 4,
  "nbformat_minor": 0,
  "metadata": {
    "colab": {
      "provenance": [],
      "authorship_tag": "ABX9TyPtQK5waZZ+mhxmNhGWl6FZ",
      "include_colab_link": true
    },
    "kernelspec": {
      "name": "python3",
      "display_name": "Python 3"
    },
    "language_info": {
      "name": "python"
    }
  },
  "cells": [
    {
      "cell_type": "markdown",
      "metadata": {
        "id": "view-in-github",
        "colab_type": "text"
      },
      "source": [
        "<a href=\"https://colab.research.google.com/github/Rakesh-kumar-s/Rakesh-kumar-s/blob/main/Solving_Inventory_Inefficiencies_Using_Advanced_SQL_Analytics.ipynb\" target=\"_parent\"><img src=\"https://colab.research.google.com/assets/colab-badge.svg\" alt=\"Open In Colab\"/></a>"
      ]
    },
    {
      "cell_type": "code",
      "source": [
        "# Install required packages\n",
        "!pip install pandas sqlalchemy ipython-sql\n",
        "\n",
        "# Import libraries\n",
        "import pandas as pd\n",
        "from sqlalchemy import create_engine"
      ],
      "metadata": {
        "colab": {
          "base_uri": "https://localhost:8080/"
        },
        "id": "RRGsvSNtQIqG",
        "outputId": "36842ec7-21e9-46ca-eecf-127f1367f4e2"
      },
      "execution_count": 4,
      "outputs": [
        {
          "output_type": "stream",
          "name": "stdout",
          "text": [
            "Requirement already satisfied: pandas in /usr/local/lib/python3.11/dist-packages (2.2.2)\n",
            "Requirement already satisfied: sqlalchemy in /usr/local/lib/python3.11/dist-packages (2.0.41)\n",
            "Requirement already satisfied: ipython-sql in /usr/local/lib/python3.11/dist-packages (0.5.0)\n",
            "Requirement already satisfied: numpy>=1.23.2 in /usr/local/lib/python3.11/dist-packages (from pandas) (2.0.2)\n",
            "Requirement already satisfied: python-dateutil>=2.8.2 in /usr/local/lib/python3.11/dist-packages (from pandas) (2.9.0.post0)\n",
            "Requirement already satisfied: pytz>=2020.1 in /usr/local/lib/python3.11/dist-packages (from pandas) (2025.2)\n",
            "Requirement already satisfied: tzdata>=2022.7 in /usr/local/lib/python3.11/dist-packages (from pandas) (2025.2)\n",
            "Requirement already satisfied: greenlet>=1 in /usr/local/lib/python3.11/dist-packages (from sqlalchemy) (3.2.3)\n",
            "Requirement already satisfied: typing-extensions>=4.6.0 in /usr/local/lib/python3.11/dist-packages (from sqlalchemy) (4.14.0)\n",
            "Requirement already satisfied: prettytable in /usr/local/lib/python3.11/dist-packages (from ipython-sql) (3.16.0)\n",
            "Requirement already satisfied: ipython in /usr/local/lib/python3.11/dist-packages (from ipython-sql) (7.34.0)\n",
            "Requirement already satisfied: sqlparse in /usr/local/lib/python3.11/dist-packages (from ipython-sql) (0.5.3)\n",
            "Requirement already satisfied: six in /usr/local/lib/python3.11/dist-packages (from ipython-sql) (1.17.0)\n",
            "Requirement already satisfied: ipython-genutils in /usr/local/lib/python3.11/dist-packages (from ipython-sql) (0.2.0)\n",
            "Requirement already satisfied: setuptools>=18.5 in /usr/local/lib/python3.11/dist-packages (from ipython->ipython-sql) (75.2.0)\n",
            "Collecting jedi>=0.16 (from ipython->ipython-sql)\n",
            "  Downloading jedi-0.19.2-py2.py3-none-any.whl.metadata (22 kB)\n",
            "Requirement already satisfied: decorator in /usr/local/lib/python3.11/dist-packages (from ipython->ipython-sql) (4.4.2)\n",
            "Requirement already satisfied: pickleshare in /usr/local/lib/python3.11/dist-packages (from ipython->ipython-sql) (0.7.5)\n",
            "Requirement already satisfied: traitlets>=4.2 in /usr/local/lib/python3.11/dist-packages (from ipython->ipython-sql) (5.7.1)\n",
            "Requirement already satisfied: prompt-toolkit!=3.0.0,!=3.0.1,<3.1.0,>=2.0.0 in /usr/local/lib/python3.11/dist-packages (from ipython->ipython-sql) (3.0.51)\n",
            "Requirement already satisfied: pygments in /usr/local/lib/python3.11/dist-packages (from ipython->ipython-sql) (2.19.1)\n",
            "Requirement already satisfied: backcall in /usr/local/lib/python3.11/dist-packages (from ipython->ipython-sql) (0.2.0)\n",
            "Requirement already satisfied: matplotlib-inline in /usr/local/lib/python3.11/dist-packages (from ipython->ipython-sql) (0.1.7)\n",
            "Requirement already satisfied: pexpect>4.3 in /usr/local/lib/python3.11/dist-packages (from ipython->ipython-sql) (4.9.0)\n",
            "Requirement already satisfied: wcwidth in /usr/local/lib/python3.11/dist-packages (from prettytable->ipython-sql) (0.2.13)\n",
            "Requirement already satisfied: parso<0.9.0,>=0.8.4 in /usr/local/lib/python3.11/dist-packages (from jedi>=0.16->ipython->ipython-sql) (0.8.4)\n",
            "Requirement already satisfied: ptyprocess>=0.5 in /usr/local/lib/python3.11/dist-packages (from pexpect>4.3->ipython->ipython-sql) (0.7.0)\n",
            "Downloading jedi-0.19.2-py2.py3-none-any.whl (1.6 MB)\n",
            "\u001b[2K   \u001b[90m━━━━━━━━━━━━━━━━━━━━━━━━━━━━━━━━━━━━━━━━\u001b[0m \u001b[32m1.6/1.6 MB\u001b[0m \u001b[31m24.7 MB/s\u001b[0m eta \u001b[36m0:00:00\u001b[0m\n",
            "\u001b[?25hInstalling collected packages: jedi\n",
            "Successfully installed jedi-0.19.2\n"
          ]
        }
      ]
    },
    {
      "cell_type": "code",
      "source": [
        "# Create sample inventory data\n",
        "inventory_data = {\n",
        "    'product_id': [101, 102, 103, 104, 105],\n",
        "    'product_name': ['Widget A', 'Gadget B', 'Tool C', 'Part D', 'Supply E'],\n",
        "    'current_stock': [150, 45, 78, 230, 12],\n",
        "    'unit_cost': [12.50, 45.00, 8.75, 3.20, 28.99],\n",
        "    'lead_time_days': [7, 14, 3, 21, 10]\n",
        "}\n",
        "\n",
        "# Create sample sales data\n",
        "sales_data = {\n",
        "    'sale_id': [1, 2, 3, 4, 5, 6, 7, 8, 9, 10],\n",
        "    'product_id': [101, 102, 101, 103, 104, 101, 102, 105, 103, 101],\n",
        "    'sale_date': pd.date_range(start='2023-01-01', periods=10),\n",
        "    'quantity': [5, 2, 3, 1, 8, 4, 1, 1, 2, 6],\n",
        "    'unit_price': [15.00, 50.00, 15.00, 10.00, 4.00, 15.00, 50.00, 35.00, 10.00, 15.00]\n",
        "}\n",
        "\n",
        "# Convert to DataFrames\n",
        "df_inventory = pd.DataFrame(inventory_data)\n",
        "df_sales = pd.DataFrame(sales_data)\n",
        "\n",
        "# Create in-memory SQLite database\n",
        "engine = create_engine('sqlite:///:memory:')\n",
        "\n",
        "# Load data into database\n",
        "df_inventory.to_sql('inventory', engine, index=False)\n",
        "df_sales.to_sql('sales', engine, index=False)"
      ],
      "metadata": {
        "colab": {
          "base_uri": "https://localhost:8080/"
        },
        "id": "Sun8-6iqQIz1",
        "outputId": "83ff893b-f6b7-4112-b8d6-84cd865e6049"
      },
      "execution_count": 5,
      "outputs": [
        {
          "output_type": "execute_result",
          "data": {
            "text/plain": [
              "10"
            ]
          },
          "metadata": {},
          "execution_count": 5
        }
      ]
    },
    {
      "cell_type": "code",
      "source": [
        "# Load SQL magic extension\n",
        "%load_ext sql\n",
        "\n",
        "# Connect to our in-memory database\n",
        "%sql sqlite:///:memory:"
      ],
      "metadata": {
        "id": "Zd3K0ZcKQI3a"
      },
      "execution_count": 6,
      "outputs": []
    },
    {
      "cell_type": "code",
      "source": [
        "%%sql\n",
        "-- Simple inventory valuation\n",
        "SELECT\n",
        "  product_id,\n",
        "  product_name,\n",
        "  current_stock,\n",
        "  unit_cost,\n",
        "  current_stock * unit_cost AS inventory_value\n",
        "FROM inventory\n",
        "ORDER BY inventory_value DESC;"
      ],
      "metadata": {
        "colab": {
          "base_uri": "https://localhost:8080/"
        },
        "id": "PjxAfveCQI5j",
        "outputId": "cc7b8a27-6e93-4a1d-ab24-8c8f4c7e83b3"
      },
      "execution_count": 7,
      "outputs": [
        {
          "output_type": "stream",
          "name": "stdout",
          "text": [
            " * sqlite:///:memory:\n",
            "(sqlite3.OperationalError) no such table: inventory\n",
            "[SQL: -- Simple inventory valuation\n",
            "SELECT \n",
            "  product_id,\n",
            "  product_name,\n",
            "  current_stock,\n",
            "  unit_cost,\n",
            "  current_stock * unit_cost AS inventory_value\n",
            "FROM inventory\n",
            "ORDER BY inventory_value DESC;]\n",
            "(Background on this error at: https://sqlalche.me/e/20/e3q8)\n"
          ]
        }
      ]
    },
    {
      "cell_type": "code",
      "source": [
        "%%sql\n",
        "-- Simple inventory valuation\n",
        "SELECT\n",
        "  product_id,\n",
        "  product_name,\n",
        "  current_stock,\n",
        "  unit_cost,\n",
        "  current_stock * unit_cost AS inventory_value\n",
        "FROM inventory\n",
        "ORDER BY inventory_value DESC;"
      ],
      "metadata": {
        "colab": {
          "base_uri": "https://localhost:8080/"
        },
        "id": "x3N02pxhQI7Z",
        "outputId": "2fe5abc9-e451-497a-db4b-283133ff6df1"
      },
      "execution_count": 8,
      "outputs": [
        {
          "output_type": "stream",
          "name": "stdout",
          "text": [
            " * sqlite:///:memory:\n",
            "(sqlite3.OperationalError) no such table: inventory\n",
            "[SQL: -- Simple inventory valuation\n",
            "SELECT \n",
            "  product_id,\n",
            "  product_name,\n",
            "  current_stock,\n",
            "  unit_cost,\n",
            "  current_stock * unit_cost AS inventory_value\n",
            "FROM inventory\n",
            "ORDER BY inventory_value DESC;]\n",
            "(Background on this error at: https://sqlalche.me/e/20/e3q8)\n"
          ]
        }
      ]
    },
    {
      "cell_type": "code",
      "source": [
        "%%sql\n",
        "WITH inventory_stats AS (\n",
        "  SELECT\n",
        "    product_id,\n",
        "    product_name,\n",
        "    current_stock,\n",
        "    unit_cost,\n",
        "    current_stock * unit_cost AS inventory_value,\n",
        "    SUM(current_stock * unit_cost) OVER () AS total_inventory_value\n",
        "  FROM inventory\n",
        ")\n",
        "SELECT\n",
        "  product_id,\n",
        "  product_name,\n",
        "  current_stock,\n",
        "  inventory_value,\n",
        "  ROUND(inventory_value * 100.0 / total_inventory_value, 2) AS value_percentage,\n",
        "  CASE\n",
        "    WHEN inventory_value * 100.0 / total_inventory_value >= 80 THEN 'A'\n",
        "    WHEN inventory_value * 100.0 / total_inventory_value >= 15 THEN 'B'\n",
        "    ELSE 'C'\n",
        "  END AS abc_class\n",
        "FROM inventory_stats\n",
        "ORDER BY inventory_value DESC;"
      ],
      "metadata": {
        "colab": {
          "base_uri": "https://localhost:8080/"
        },
        "id": "fJaYgkrSQI9j",
        "outputId": "4f276b91-9d09-40d0-da2a-3f346c035404"
      },
      "execution_count": 9,
      "outputs": [
        {
          "output_type": "stream",
          "name": "stdout",
          "text": [
            " * sqlite:///:memory:\n",
            "(sqlite3.OperationalError) no such table: inventory\n",
            "[SQL: WITH inventory_stats AS (\n",
            "  SELECT \n",
            "    product_id,\n",
            "    product_name,\n",
            "    current_stock,\n",
            "    unit_cost,\n",
            "    current_stock * unit_cost AS inventory_value,\n",
            "    SUM(current_stock * unit_cost) OVER () AS total_inventory_value\n",
            "  FROM inventory\n",
            ")\n",
            "SELECT \n",
            "  product_id,\n",
            "  product_name,\n",
            "  current_stock,\n",
            "  inventory_value,\n",
            "  ROUND(inventory_value * 100.0 / total_inventory_value, 2) AS value_percentage,\n",
            "  CASE \n",
            "    WHEN inventory_value * 100.0 / total_inventory_value >= 80 THEN 'A'\n",
            "    WHEN inventory_value * 100.0 / total_inventory_value >= 15 THEN 'B'\n",
            "    ELSE 'C'\n",
            "  END AS abc_class\n",
            "FROM inventory_stats\n",
            "ORDER BY inventory_value DESC;]\n",
            "(Background on this error at: https://sqlalche.me/e/20/e3q8)\n"
          ]
        }
      ]
    },
    {
      "cell_type": "code",
      "source": [
        "%%sql\n",
        "WITH inventory_stats AS (\n",
        "  SELECT\n",
        "    product_id,\n",
        "    product_name,\n",
        "    current_stock,\n",
        "    unit_cost,\n",
        "    current_stock * unit_cost AS inventory_value,\n",
        "    SUM(current_stock * unit_cost) OVER () AS total_inventory_value\n",
        "  FROM inventory\n",
        ")\n",
        "SELECT\n",
        "  product_id,\n",
        "  product_name,\n",
        "  current_stock,\n",
        "  inventory_value,\n",
        "  ROUND(inventory_value * 100.0 / total_inventory_value, 2) AS value_percentage,\n",
        "  CASE\n",
        "    WHEN inventory_value * 100.0 / total_inventory_value >= 80 THEN 'A'\n",
        "    WHEN inventory_value * 100.0 / total_inventory_value >= 15 THEN 'B'\n",
        "    ELSE 'C'\n",
        "  END AS abc_class\n",
        "FROM inventory_stats\n",
        "ORDER BY inventory_value DESC;"
      ],
      "metadata": {
        "colab": {
          "base_uri": "https://localhost:8080/"
        },
        "id": "Zy-hNHOWQJAS",
        "outputId": "636ad002-78d2-49bb-8d83-2b84d3677008"
      },
      "execution_count": 10,
      "outputs": [
        {
          "output_type": "stream",
          "name": "stdout",
          "text": [
            " * sqlite:///:memory:\n",
            "(sqlite3.OperationalError) no such table: inventory\n",
            "[SQL: WITH inventory_stats AS (\n",
            "  SELECT \n",
            "    product_id,\n",
            "    product_name,\n",
            "    current_stock,\n",
            "    unit_cost,\n",
            "    current_stock * unit_cost AS inventory_value,\n",
            "    SUM(current_stock * unit_cost) OVER () AS total_inventory_value\n",
            "  FROM inventory\n",
            ")\n",
            "SELECT \n",
            "  product_id,\n",
            "  product_name,\n",
            "  current_stock,\n",
            "  inventory_value,\n",
            "  ROUND(inventory_value * 100.0 / total_inventory_value, 2) AS value_percentage,\n",
            "  CASE \n",
            "    WHEN inventory_value * 100.0 / total_inventory_value >= 80 THEN 'A'\n",
            "    WHEN inventory_value * 100.0 / total_inventory_value >= 15 THEN 'B'\n",
            "    ELSE 'C'\n",
            "  END AS abc_class\n",
            "FROM inventory_stats\n",
            "ORDER BY inventory_value DESC;]\n",
            "(Background on this error at: https://sqlalche.me/e/20/e3q8)\n"
          ]
        }
      ]
    },
    {
      "cell_type": "code",
      "source": [
        "%%sql\n",
        "WITH daily_sales AS (\n",
        "  SELECT\n",
        "    product_id,\n",
        "    sale_date,\n",
        "    SUM(quantity) AS daily_quantity\n",
        "  FROM sales\n",
        "  GROUP BY product_id, sale_date\n",
        "),\n",
        "sales_stats AS (\n",
        "  SELECT\n",
        "    product_id,\n",
        "    AVG(daily_quantity) AS avg_daily_sales,\n",
        "    STDDEV(daily_quantity) AS sales_stddev\n",
        "  FROM daily_sales\n",
        "  GROUP BY product_id\n",
        ")\n",
        "SELECT\n",
        "  i.product_id,\n",
        "  i.product_name,\n",
        "  i.current_stock,\n",
        "  s.avg_daily_sales,\n",
        "  s.sales_stddev,\n",
        "  CASE\n",
        "    WHEN s.avg_daily_sales = 0 THEN NULL\n",
        "    ELSE i.current_stock / s.avg_daily_sales\n",
        "  END AS days_of_supply,\n",
        "  CASE\n",
        "    WHEN s.avg_daily_sales IS NULL THEN 'No Sales Data'\n",
        "    WHEN i.current_stock < (s.avg_daily_sales + s.sales_stddev) THEN 'High Risk'\n",
        "    WHEN i.current_stock < (s.avg_daily_sales + 2*s.sales_stddev) THEN 'Medium Risk'\n",
        "    ELSE 'Low Risk'\n",
        "  END AS stockout_risk\n",
        "FROM inventory i\n",
        "LEFT JOIN sales_stats s ON i.product_id = s.product_id\n",
        "ORDER BY stockout_risk, days_of_supply;"
      ],
      "metadata": {
        "colab": {
          "base_uri": "https://localhost:8080/"
        },
        "id": "wyF3oVRQQsfd",
        "outputId": "6088e2a6-1c21-469b-c712-8193abe60e77"
      },
      "execution_count": 11,
      "outputs": [
        {
          "output_type": "stream",
          "name": "stdout",
          "text": [
            " * sqlite:///:memory:\n",
            "(sqlite3.OperationalError) no such table: inventory\n",
            "[SQL: WITH daily_sales AS (\n",
            "  SELECT \n",
            "    product_id,\n",
            "    sale_date,\n",
            "    SUM(quantity) AS daily_quantity\n",
            "  FROM sales\n",
            "  GROUP BY product_id, sale_date\n",
            "),\n",
            "sales_stats AS (\n",
            "  SELECT\n",
            "    product_id,\n",
            "    AVG(daily_quantity) AS avg_daily_sales,\n",
            "    STDDEV(daily_quantity) AS sales_stddev\n",
            "  FROM daily_sales\n",
            "  GROUP BY product_id\n",
            ")\n",
            "SELECT\n",
            "  i.product_id,\n",
            "  i.product_name,\n",
            "  i.current_stock,\n",
            "  s.avg_daily_sales,\n",
            "  s.sales_stddev,\n",
            "  CASE \n",
            "    WHEN s.avg_daily_sales = 0 THEN NULL \n",
            "    ELSE i.current_stock / s.avg_daily_sales \n",
            "  END AS days_of_supply,\n",
            "  CASE\n",
            "    WHEN s.avg_daily_sales IS NULL THEN 'No Sales Data'\n",
            "    WHEN i.current_stock < (s.avg_daily_sales + s.sales_stddev) THEN 'High Risk'\n",
            "    WHEN i.current_stock < (s.avg_daily_sales + 2*s.sales_stddev) THEN 'Medium Risk'\n",
            "    ELSE 'Low Risk'\n",
            "  END AS stockout_risk\n",
            "FROM inventory i\n",
            "LEFT JOIN sales_stats s ON i.product_id = s.product_id\n",
            "ORDER BY stockout_risk, days_of_supply;]\n",
            "(Background on this error at: https://sqlalche.me/e/20/e3q8)\n"
          ]
        }
      ]
    },
    {
      "cell_type": "code",
      "source": [
        "# Convert SQL results to Pandas DataFrame for visualization\n",
        "result = %sql SELECT * FROM inventory\n",
        "df = result.DataFrame()\n",
        "\n",
        "# Basic visualization\n",
        "import matplotlib.pyplot as plt\n",
        "\n",
        "plt.figure(figsize=(10, 5))\n",
        "plt.bar(df['product_name'], df['current_stock'])\n",
        "plt.title('Current Stock Levels')\n",
        "plt.xlabel('Product')\n",
        "plt.ylabel('Quantity in Stock')\n",
        "plt.xticks(rotation=45)\n",
        "plt.show()"
      ],
      "metadata": {
        "colab": {
          "base_uri": "https://localhost:8080/",
          "height": 330
        },
        "id": "OOU-swFwQspU",
        "outputId": "a74e77c8-41a9-486b-e05b-7a908ec256a0"
      },
      "execution_count": 12,
      "outputs": [
        {
          "output_type": "stream",
          "name": "stdout",
          "text": [
            " * sqlite:///:memory:\n",
            "(sqlite3.OperationalError) no such table: inventory\n",
            "[SQL: SELECT * FROM inventory]\n",
            "(Background on this error at: https://sqlalche.me/e/20/e3q8)\n"
          ]
        },
        {
          "output_type": "error",
          "ename": "AttributeError",
          "evalue": "'NoneType' object has no attribute 'DataFrame'",
          "traceback": [
            "\u001b[0;31m---------------------------------------------------------------------------\u001b[0m",
            "\u001b[0;31mAttributeError\u001b[0m                            Traceback (most recent call last)",
            "\u001b[0;32m/tmp/ipython-input-12-1457924307.py\u001b[0m in \u001b[0;36m<cell line: 0>\u001b[0;34m()\u001b[0m\n\u001b[1;32m      1\u001b[0m \u001b[0;31m# Convert SQL results to Pandas DataFrame for visualization\u001b[0m\u001b[0;34m\u001b[0m\u001b[0;34m\u001b[0m\u001b[0m\n\u001b[1;32m      2\u001b[0m \u001b[0mresult\u001b[0m \u001b[0;34m=\u001b[0m \u001b[0mget_ipython\u001b[0m\u001b[0;34m(\u001b[0m\u001b[0;34m)\u001b[0m\u001b[0;34m.\u001b[0m\u001b[0mrun_line_magic\u001b[0m\u001b[0;34m(\u001b[0m\u001b[0;34m'sql'\u001b[0m\u001b[0;34m,\u001b[0m \u001b[0;34m'SELECT * FROM inventory'\u001b[0m\u001b[0;34m)\u001b[0m\u001b[0;34m\u001b[0m\u001b[0;34m\u001b[0m\u001b[0m\n\u001b[0;32m----> 3\u001b[0;31m \u001b[0mdf\u001b[0m \u001b[0;34m=\u001b[0m \u001b[0mresult\u001b[0m\u001b[0;34m.\u001b[0m\u001b[0mDataFrame\u001b[0m\u001b[0;34m(\u001b[0m\u001b[0;34m)\u001b[0m\u001b[0;34m\u001b[0m\u001b[0;34m\u001b[0m\u001b[0m\n\u001b[0m\u001b[1;32m      4\u001b[0m \u001b[0;34m\u001b[0m\u001b[0m\n\u001b[1;32m      5\u001b[0m \u001b[0;31m# Basic visualization\u001b[0m\u001b[0;34m\u001b[0m\u001b[0;34m\u001b[0m\u001b[0m\n",
            "\u001b[0;31mAttributeError\u001b[0m: 'NoneType' object has no attribute 'DataFrame'"
          ]
        }
      ]
    },
    {
      "cell_type": "code",
      "source": [
        "%%sql\n",
        "WITH sales_stats AS (\n",
        "  SELECT\n",
        "    product_id,\n",
        "    AVG(quantity) AS avg_daily_demand,\n",
        "    STDDEV(quantity) AS demand_stddev\n",
        "  FROM (\n",
        "    SELECT\n",
        "      product_id,\n",
        "      sale_date,\n",
        "      SUM(quantity) AS quantity\n",
        "    FROM sales\n",
        "    GROUP BY product_id, sale_date\n",
        "  ) daily_sales\n",
        "  GROUP BY product_id\n",
        ")\n",
        "SELECT\n",
        "  i.product_id,\n",
        "  i.product_name,\n",
        "  i.current_stock,\n",
        "  i.lead_time_days,\n",
        "  s.avg_daily_demand,\n",
        "  s.demand_stddev,\n",
        "  -- Basic reorder point\n",
        "  ROUND(s.avg_daily_demand * i.lead_time_days, 2) AS basic_reorder_point,\n",
        "  -- Safety stock (simplified)\n",
        "  ROUND(1.5 * s.demand_stddev * SQRT(i.lead_time_days), 2) AS safety_stock,\n",
        "  -- Total recommended reorder point\n",
        "  ROUND((s.avg_daily_demand * i.lead_time_days) +\n",
        "       (1.5 * s.demand_stddev * SQRT(i.lead_time_days)), 2) AS recommended_reorder_point,\n",
        "  CASE\n",
        "    WHEN i.current_stock <= ROUND((s.avg_daily_demand * i.lead_time_days) +\n",
        "                                (1.5 * s.demand_stddev * SQRT(i.lead_time_days)), 2)\n",
        "         THEN 'Reorder Now'\n",
        "    ELSE 'Stock OK'\n",
        "  END AS reorder_status\n",
        "FROM inventory i\n",
        "LEFT JOIN sales_stats s ON i.product_id = s.product_id\n",
        "ORDER BY reorder_status;"
      ],
      "metadata": {
        "id": "XYUC29fgQsxn"
      },
      "execution_count": null,
      "outputs": []
    },
    {
      "cell_type": "code",
      "source": [
        "# Example for PostgreSQL\n",
        "# !pip install psycopg2-binary\n",
        "\n",
        "# Replace with your actual credentials\n",
        "db_connection = {\n",
        "    'host': 'your-db-host',\n",
        "    'database': 'your-db-name',\n",
        "    'user': 'your-username',\n",
        "    'password': 'your-password',\n",
        "    'port': '5432'\n",
        "}\n",
        "\n",
        "# Create connection string\n",
        "conn_string = f\"postgresql://{db_connection['user']}:{db_connection['password']}@{db_connection['host']}:{db_connection['port']}/{db_connection['database']}\"\n",
        "\n",
        "# Connect using SQL magic\n",
        "%sql $conn_string"
      ],
      "metadata": {
        "id": "0YMhchjvQ5Wz"
      },
      "execution_count": null,
      "outputs": []
    },
    {
      "cell_type": "code",
      "source": [
        "result = %sql SELECT * FROM inventory\n",
        "result.DataFrame().to_csv('inventory_analysis.csv', index=False)"
      ],
      "metadata": {
        "id": "-ugrw9jeQ5hd"
      },
      "execution_count": null,
      "outputs": []
    },
    {
      "cell_type": "code",
      "source": [
        "!pip install plotly\n",
        "import plotly.express as px\n",
        "\n",
        "fig = px.bar(df, x='product_name', y='current_stock',\n",
        "             title='Current Inventory Levels')\n",
        "fig.show()"
      ],
      "metadata": {
        "id": "Y-l_xbr1Q--W"
      },
      "execution_count": null,
      "outputs": []
    }
  ]
}